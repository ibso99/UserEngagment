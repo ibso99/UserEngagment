{
 "cells": [
  {
   "cell_type": "markdown",
   "metadata": {},
   "source": [
    "### <span style=\"color:blue\">_**Requirements**_</span>\n",
    "- <span style=\"color:blue\">_**Data Loading And Aggregating**_</span>\n",
    "- <span style=\"color:blue\">_**Engagement And Experience Clustering**_</span>  \n",
    "- <span style=\"color:blue\">_**Engagement Score And Experience Score**_</span>   \n",
    "- <span style=\"color:blue\">_**Satisfaction Score**_</span>  \n",
    "- <span style=\"color:blue\">_**Regression Model**_</span>\n",
    "- <span style=\"color:blue\">_**k-Means Clustering**_</span>\n",
    "- <span style=\"color:blue\">_**Export Data To Table**_</span>\n"
   ]
  },
  {
   "cell_type": "code",
   "execution_count": 1,
   "metadata": {},
   "outputs": [
    {
     "name": "stdout",
     "output_type": "stream",
     "text": [
      "c:\\Users\\ibsan\\Desktop\\TenX\\week-2\\notebooks\n",
      "c:\\Users\\ibsan\\Desktop\\TenX\\week-2\n"
     ]
    }
   ],
   "source": [
    "import os, sys\n",
    "current_dir = os.getcwd()\n",
    "print(current_dir)\n",
    "\n",
    "parent_dir = os.path.dirname(current_dir)\n",
    "print(parent_dir)\n",
    "\n",
    "sys.path.insert(0,parent_dir)"
   ]
  },
  {
   "cell_type": "code",
   "execution_count": 2,
   "metadata": {},
   "outputs": [],
   "source": [
    "import pandas as pd\n",
    "from scripts.SatisfactionAnalyzer import SatisfactionAnalyzer\n",
    "from scripts.DataPipline import DataPipeline"
   ]
  },
  {
   "cell_type": "markdown",
   "metadata": {},
   "source": [
    "- <span style=\"color:blue\">_**Data Loading And Aggregating**_</span>"
   ]
  },
  {
   "cell_type": "code",
   "execution_count": 3,
   "metadata": {},
   "outputs": [
    {
     "data": {
      "text/html": [
       "<div>\n",
       "<style scoped>\n",
       "    .dataframe tbody tr th:only-of-type {\n",
       "        vertical-align: middle;\n",
       "    }\n",
       "\n",
       "    .dataframe tbody tr th {\n",
       "        vertical-align: top;\n",
       "    }\n",
       "\n",
       "    .dataframe thead th {\n",
       "        text-align: right;\n",
       "    }\n",
       "</style>\n",
       "<table border=\"1\" class=\"dataframe\">\n",
       "  <thead>\n",
       "    <tr style=\"text-align: right;\">\n",
       "      <th></th>\n",
       "      <th>Bearer Id</th>\n",
       "      <th>Start</th>\n",
       "      <th>Start ms</th>\n",
       "      <th>End</th>\n",
       "      <th>End ms</th>\n",
       "      <th>Dur. (ms)</th>\n",
       "      <th>IMSI</th>\n",
       "      <th>MSISDN/Number</th>\n",
       "      <th>IMEI</th>\n",
       "      <th>Last Location Name</th>\n",
       "      <th>...</th>\n",
       "      <th>Youtube DL (Bytes)</th>\n",
       "      <th>Youtube UL (Bytes)</th>\n",
       "      <th>Netflix DL (Bytes)</th>\n",
       "      <th>Netflix UL (Bytes)</th>\n",
       "      <th>Gaming DL (Bytes)</th>\n",
       "      <th>Gaming UL (Bytes)</th>\n",
       "      <th>Other DL (Bytes)</th>\n",
       "      <th>Other UL (Bytes)</th>\n",
       "      <th>Total UL (Bytes)</th>\n",
       "      <th>Total DL (Bytes)</th>\n",
       "    </tr>\n",
       "  </thead>\n",
       "  <tbody>\n",
       "    <tr>\n",
       "      <th>0</th>\n",
       "      <td>1.311448e+19</td>\n",
       "      <td>4/4/2019 12:01</td>\n",
       "      <td>770.0</td>\n",
       "      <td>4/25/2019 14:35</td>\n",
       "      <td>662.0</td>\n",
       "      <td>1823652.0</td>\n",
       "      <td>2.082014e+14</td>\n",
       "      <td>3.366496e+10</td>\n",
       "      <td>3.552121e+13</td>\n",
       "      <td>9.16456699548519E+015</td>\n",
       "      <td>...</td>\n",
       "      <td>15854611.0</td>\n",
       "      <td>2501332.0</td>\n",
       "      <td>8198936.0</td>\n",
       "      <td>9656251.0</td>\n",
       "      <td>278082303.0</td>\n",
       "      <td>14344150.0</td>\n",
       "      <td>171744450.0</td>\n",
       "      <td>8814393.0</td>\n",
       "      <td>36749741.0</td>\n",
       "      <td>308879636.0</td>\n",
       "    </tr>\n",
       "    <tr>\n",
       "      <th>1</th>\n",
       "      <td>1.311448e+19</td>\n",
       "      <td>4/9/2019 13:04</td>\n",
       "      <td>235.0</td>\n",
       "      <td>4/25/2019 8:15</td>\n",
       "      <td>606.0</td>\n",
       "      <td>1365104.0</td>\n",
       "      <td>2.082019e+14</td>\n",
       "      <td>3.368185e+10</td>\n",
       "      <td>3.579401e+13</td>\n",
       "      <td>L77566A</td>\n",
       "      <td>...</td>\n",
       "      <td>20247395.0</td>\n",
       "      <td>19111729.0</td>\n",
       "      <td>18338413.0</td>\n",
       "      <td>17227132.0</td>\n",
       "      <td>608750074.0</td>\n",
       "      <td>1170709.0</td>\n",
       "      <td>526904238.0</td>\n",
       "      <td>15055145.0</td>\n",
       "      <td>53800391.0</td>\n",
       "      <td>653384965.0</td>\n",
       "    </tr>\n",
       "    <tr>\n",
       "      <th>2</th>\n",
       "      <td>1.311448e+19</td>\n",
       "      <td>4/9/2019 17:42</td>\n",
       "      <td>1.0</td>\n",
       "      <td>4/25/2019 11:58</td>\n",
       "      <td>652.0</td>\n",
       "      <td>1361762.0</td>\n",
       "      <td>2.082003e+14</td>\n",
       "      <td>3.376063e+10</td>\n",
       "      <td>3.528151e+13</td>\n",
       "      <td>D42335A</td>\n",
       "      <td>...</td>\n",
       "      <td>19725661.0</td>\n",
       "      <td>14699576.0</td>\n",
       "      <td>17587794.0</td>\n",
       "      <td>6163408.0</td>\n",
       "      <td>229584621.0</td>\n",
       "      <td>395630.0</td>\n",
       "      <td>410692588.0</td>\n",
       "      <td>4215763.0</td>\n",
       "      <td>27883638.0</td>\n",
       "      <td>279807335.0</td>\n",
       "    </tr>\n",
       "  </tbody>\n",
       "</table>\n",
       "<p>3 rows × 55 columns</p>\n",
       "</div>"
      ],
      "text/plain": [
       "      Bearer Id           Start  Start ms              End  End ms  Dur. (ms)  \\\n",
       "0  1.311448e+19  4/4/2019 12:01     770.0  4/25/2019 14:35   662.0  1823652.0   \n",
       "1  1.311448e+19  4/9/2019 13:04     235.0   4/25/2019 8:15   606.0  1365104.0   \n",
       "2  1.311448e+19  4/9/2019 17:42       1.0  4/25/2019 11:58   652.0  1361762.0   \n",
       "\n",
       "           IMSI  MSISDN/Number          IMEI     Last Location Name  ...  \\\n",
       "0  2.082014e+14   3.366496e+10  3.552121e+13  9.16456699548519E+015  ...   \n",
       "1  2.082019e+14   3.368185e+10  3.579401e+13                L77566A  ...   \n",
       "2  2.082003e+14   3.376063e+10  3.528151e+13                D42335A  ...   \n",
       "\n",
       "   Youtube DL (Bytes)  Youtube UL (Bytes)  Netflix DL (Bytes)  \\\n",
       "0          15854611.0           2501332.0           8198936.0   \n",
       "1          20247395.0          19111729.0          18338413.0   \n",
       "2          19725661.0          14699576.0          17587794.0   \n",
       "\n",
       "   Netflix UL (Bytes)  Gaming DL (Bytes)  Gaming UL (Bytes)  Other DL (Bytes)  \\\n",
       "0           9656251.0        278082303.0         14344150.0       171744450.0   \n",
       "1          17227132.0        608750074.0          1170709.0       526904238.0   \n",
       "2           6163408.0        229584621.0           395630.0       410692588.0   \n",
       "\n",
       "   Other UL (Bytes)  Total UL (Bytes)  Total DL (Bytes)  \n",
       "0         8814393.0        36749741.0       308879636.0  \n",
       "1        15055145.0        53800391.0       653384965.0  \n",
       "2         4215763.0        27883638.0       279807335.0  \n",
       "\n",
       "[3 rows x 55 columns]"
      ]
     },
     "execution_count": 3,
     "metadata": {},
     "output_type": "execute_result"
    }
   ],
   "source": [
    "# Loads the data from sql\n",
    "query = \"SELECT * FROM xdr_data;\"\n",
    "telecom_df = DataPipeline.load_data_using_sqlalchemy(query=query)\n",
    "telecom_df.head(3)"
   ]
  },
  {
   "cell_type": "code",
   "execution_count": 4,
   "metadata": {},
   "outputs": [
    {
     "name": "stdout",
     "output_type": "stream",
     "text": [
      "\n",
      "Aggregated User Data:\n",
      "        MSISDN/Number  TCP DL Retrans. Vol (Bytes)  Avg RTT DL (ms)  \\\n",
      "0        3.360100e+10                 2.080991e+07        46.000000   \n",
      "1        3.360100e+10                 2.080991e+07        30.000000   \n",
      "2        3.360100e+10                 2.080991e+07       109.795706   \n",
      "3        3.360101e+10                 1.066000e+03        69.000000   \n",
      "4        3.360101e+10                 1.507977e+07        57.000000   \n",
      "...               ...                          ...              ...   \n",
      "106851   3.379000e+10                 2.150440e+05        42.000000   \n",
      "106852   3.379000e+10                 2.080991e+07        34.000000   \n",
      "106853   3.197021e+12                 2.080991e+07       109.795706   \n",
      "106854   3.370000e+14                 2.080991e+07       109.795706   \n",
      "106855   8.823971e+14                 2.080991e+07       109.795706   \n",
      "\n",
      "                            Handset Type  Avg Bearer TP DL (kbps)  \\\n",
      "0         Huawei P20 Lite Huawei Nova 3E                     37.0   \n",
      "1                 Apple iPhone 7 (A1778)                     48.0   \n",
      "2                              undefined                     48.0   \n",
      "3                Apple iPhone 5S (A1457)                    204.0   \n",
      "4                Apple iPhone Se (A1723)                  20197.5   \n",
      "...                                  ...                      ...   \n",
      "106851               Huawei Honor 9 Lite                   9978.0   \n",
      "106852       Apple iPhone 8 Plus (A1897)                     68.0   \n",
      "106853  Quectel Wireless. Quectel Ec25-E                      1.0   \n",
      "106854                  Huawei B525S-23A                     11.0   \n",
      "106855  Quectel Wireless. Quectel Ec21-E                      2.0   \n",
      "\n",
      "        Session_Frequency  Total_Session_Duration  Total_Traffic  \n",
      "0                     1.0                116720.0    878690574.0  \n",
      "1                     1.0                181230.0    156859643.0  \n",
      "2                     1.0                134969.0    595966483.0  \n",
      "3                     1.0                 49878.0    422320698.0  \n",
      "4                     2.0                 37104.0    871832580.0  \n",
      "...                   ...                     ...            ...  \n",
      "106851                1.0                  8810.0    714641641.0  \n",
      "106852                1.0                140988.0    480307335.0  \n",
      "106853                1.0                877385.0    232123971.0  \n",
      "106854                1.0                253030.0    596287824.0  \n",
      "106855                1.0                869844.0    139153646.0  \n",
      "\n",
      "[106856 rows x 8 columns]\n"
     ]
    }
   ],
   "source": [
    "\n",
    "# Create an instance of the SatisfactionAnalyzer class\n",
    "analyzer = SatisfactionAnalyzer(telecom_df)\n",
    "\n",
    "# Aggregate user data\n",
    "analyzer.aggregate_user_data()\n"
   ]
  },
  {
   "cell_type": "markdown",
   "metadata": {},
   "source": [
    "- <span style=\"color:blue\">_**Engagement And Experience Clustering**_</span> "
   ]
  },
  {
   "cell_type": "code",
   "execution_count": 5,
   "metadata": {},
   "outputs": [],
   "source": [
    "\n",
    "# Perform engagement clustering\n",
    "analyzer.perform_engagement_clustering(n_clusters=3)\n",
    "\n",
    "# Perform experience clustering\n",
    "analyzer.perform_experience_clustering(n_clusters=3)\n"
   ]
  },
  {
   "cell_type": "markdown",
   "metadata": {},
   "source": [
    "- <span style=\"color:blue\">_**Engagement Score And Experience Score**_</span>   "
   ]
  },
  {
   "cell_type": "code",
   "execution_count": 6,
   "metadata": {},
   "outputs": [],
   "source": [
    "\n",
    "# Calculate engagement score\n",
    "analyzer.calculate_engagement_score()\n",
    "\n",
    "# Calculate experience score\n",
    "analyzer.calculate_experience_score()\n"
   ]
  },
  {
   "cell_type": "markdown",
   "metadata": {},
   "source": [
    "- <span style=\"color:blue\">_**Satisfaction Score**_</span>   "
   ]
  },
  {
   "cell_type": "code",
   "execution_count": 7,
   "metadata": {},
   "outputs": [
    {
     "name": "stdout",
     "output_type": "stream",
     "text": [
      "\n",
      "Top 10 Most Satisfied Customers:\n",
      "       MSISDN/Number  TCP DL Retrans. Vol (Bytes)  Avg RTT DL (ms)  \\\n",
      "47983   3.366232e+10                 2.080991e+07     96923.000000   \n",
      "13180   3.362578e+10                 1.470700e+07        37.987983   \n",
      "80249   3.368369e+10                 9.200000e+01     54847.000000   \n",
      "6437    3.361489e+10                 7.540102e+06        65.222014   \n",
      "92923   3.376054e+10                 1.616105e+07       118.663804   \n",
      "13526   3.362632e+10                 1.273618e+07        63.520314   \n",
      "65118   3.366716e+10                 1.803455e+06        33.307692   \n",
      "41944   3.366087e+10                 2.080991e+07     32333.000000   \n",
      "50281   3.366284e+10                 2.880205e+07       154.043013   \n",
      "666     3.360313e+10                 5.922126e+06       100.132618   \n",
      "\n",
      "                            Handset Type  Avg Bearer TP DL (kbps)  \\\n",
      "47983             Apple iPhone 8 (A1905)                 1.000000   \n",
      "13180           Samsung Galaxy A8 (2018)             11577.117647   \n",
      "80249                         Lg Lg-D315                12.000000   \n",
      "6437         Samsung Galaxy J5 (Sm-J530)             24324.823529   \n",
      "92923        Samsung Galaxy J5 (Sm-J530)             12051.133333   \n",
      "13526        Samsung Galaxy J3 (Sm-J330)              6101.944444   \n",
      "65118        Samsung Galaxy J5 (Sm-J530)             23644.769231   \n",
      "41944             Apple iPhone 6 (A1586)                43.500000   \n",
      "50281        Tp-Link Technolo. Tl-Mr6400             32808.444444   \n",
      "666    Samsung Galaxy S9 Plus (Sm-G965F)             11011.583333   \n",
      "\n",
      "       Session_Frequency  Total_Session_Duration  Total_Traffic  \\\n",
      "47983                1.0                168242.0    243009794.0   \n",
      "13180               17.0              18553754.0    306500006.0   \n",
      "80249                1.0                 44731.0    665895211.0   \n",
      "6437                17.0               9966898.0    388199291.0   \n",
      "92923               15.0               9279434.0    674632448.0   \n",
      "13526               18.0               8791927.0    264895233.0   \n",
      "65118               13.0               8744914.0    384997635.0   \n",
      "41944                2.0                251403.0    735051035.0   \n",
      "50281                9.0               6614270.0    143872934.0   \n",
      "666                 12.0               6287761.0    436982007.0   \n",
      "\n",
      "       Engagement_Cluster  Experience_Cluster  Engagement_Score  \\\n",
      "47983                   0                   1          0.412981   \n",
      "13180                   2                   1        100.841786   \n",
      "80249                   1                   1          1.638950   \n",
      "6437                    2                   1         56.357807   \n",
      "92923                   2                   1         52.070082   \n",
      "13526                   2                   1         50.985596   \n",
      "65118                   2                   1         48.543171   \n",
      "41944                   1                   1          2.207183   \n",
      "50281                   2                   0         36.172055   \n",
      "666                     2                   1         35.709233   \n",
      "\n",
      "       Experience_Score  Satisfaction_Score  \n",
      "47983        168.776467           84.594724  \n",
      "13180         22.743118           61.792452  \n",
      "80249         97.305263           49.472107  \n",
      "6437          22.756669           39.557238  \n",
      "92923         22.725547           37.397814  \n",
      "13526         22.793549           36.889573  \n",
      "65118         22.818120           35.680646  \n",
      "41944         60.137587           31.172385  \n",
      "50281         22.509543           29.340799  \n",
      "666           22.835175           29.272204  \n"
     ]
    }
   ],
   "source": [
    "\n",
    "# Calculate satisfaction score\n",
    "analyzer.calculate_satisfaction_score()\n",
    "\n",
    "# Find the top 10 most satisfied customers\n",
    "analyzer.find_top_satisfied_customers(n=10)\n"
   ]
  },
  {
   "cell_type": "markdown",
   "metadata": {},
   "source": [
    "- <span style=\"color:blue\">_**Regression Modeling**_</span>   "
   ]
  },
  {
   "cell_type": "code",
   "execution_count": 8,
   "metadata": {},
   "outputs": [
    {
     "name": "stdout",
     "output_type": "stream",
     "text": [
      "Regression Model Coefficients: [ 2.46879920e-01  1.90794008e-06  1.15576888e-09 -3.10003492e-09\n",
      "  4.68235177e-04 -2.31449538e-08]\n",
      "Regression Model Intercept: 10.939024994709994\n"
     ]
    }
   ],
   "source": [
    "\n",
    "# Build a regression model to predict satisfaction score\n",
    "analyzer.build_regression_model()\n",
    "\n",
    "# Perform K-Means clustering on satisfaction scores\n",
    "analyzer.cluster_satisfaction(n_clusters=2)\n"
   ]
  },
  {
   "cell_type": "markdown",
   "metadata": {},
   "source": [
    "- <span style=\"color:blue\">_**k-Means Clustering**_</span>   "
   ]
  },
  {
   "cell_type": "code",
   "execution_count": 9,
   "metadata": {},
   "outputs": [
    {
     "name": "stdout",
     "output_type": "stream",
     "text": [
      "\n",
      "Cluster Statistics:\n",
      "                     Satisfaction_Score Experience_Score\n",
      "                                   mean             mean\n",
      "Satisfaction_Cluster                                    \n",
      "0                             12.050996        22.741413\n",
      "1                             13.762062        22.594281\n"
     ]
    }
   ],
   "source": [
    "\n",
    "# Analyze satisfaction clusters\n",
    "analyzer.analyze_satisfaction_clusters()\n",
    "\n"
   ]
  },
  {
   "cell_type": "markdown",
   "metadata": {},
   "source": [
    "- <span style=\"color:blue\">_**Export Data To Table**_</span>   "
   ]
  },
  {
   "cell_type": "code",
   "execution_count": 15,
   "metadata": {},
   "outputs": [],
   "source": [
    "import os\n",
    "import psycopg2 \n",
    "import pandas as pd\n",
    "from dotenv import load_dotenv\n",
    "from sqlalchemy import create_engine\n",
    "\n",
    "\n",
    "load_dotenv()\n",
    "\n",
    "DB_HOST = os.getenv(\"DB_HOST\")\n",
    "DB_PORT = os.getenv(\"DB_PORT\")\n",
    "DB_NAME = os.getenv(\"DB_NAME\")\n",
    "DB_USER = os.getenv(\"DB_USER\")\n",
    "DB_PASSWORD = os.getenv(\"DB_PASSWORD\")\n",
    "DB_TABLE = os.getenv(\"DB_TABLE\")"
   ]
  },
  {
   "cell_type": "code",
   "execution_count": 16,
   "metadata": {},
   "outputs": [
    {
     "name": "stdout",
     "output_type": "stream",
     "text": [
      "Data successfully exported to xdr_data table in postgres database.\n"
     ]
    }
   ],
   "source": [
    "# Export the final table to a MySQL database\n",
    "analyzer.export_to_postgresql(\n",
    "    host=DB_HOST,\n",
    "    user=DB_USER,\n",
    "    password=DB_PASSWORD,\n",
    "    database=DB_USER,\n",
    "    table_name=DB_TABLE,\n",
    "    port=DB_PORT\n",
    ")"
   ]
  }
 ],
 "metadata": {
  "kernelspec": {
   "display_name": "week-2",
   "language": "python",
   "name": "python3"
  },
  "language_info": {
   "codemirror_mode": {
    "name": "ipython",
    "version": 3
   },
   "file_extension": ".py",
   "mimetype": "text/x-python",
   "name": "python",
   "nbconvert_exporter": "python",
   "pygments_lexer": "ipython3",
   "version": "3.12.3"
  }
 },
 "nbformat": 4,
 "nbformat_minor": 2
}
